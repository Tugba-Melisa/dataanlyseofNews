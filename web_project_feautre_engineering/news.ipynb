{
 "cells": [
  {
   "cell_type": "code",
   "execution_count": 1,
   "id": "69df33b1-0485-4e20-b6d4-4aa02cee7505",
   "metadata": {
    "tags": []
   },
   "outputs": [
    {
     "data": {
      "text/html": [
       "<div>\n",
       "<style scoped>\n",
       "    .dataframe tbody tr th:only-of-type {\n",
       "        vertical-align: middle;\n",
       "    }\n",
       "\n",
       "    .dataframe tbody tr th {\n",
       "        vertical-align: top;\n",
       "    }\n",
       "\n",
       "    .dataframe thead th {\n",
       "        text-align: right;\n",
       "    }\n",
       "</style>\n",
       "<table border=\"1\" class=\"dataframe\">\n",
       "  <thead>\n",
       "    <tr style=\"text-align: right;\">\n",
       "      <th></th>\n",
       "      <th>source</th>\n",
       "      <th>content</th>\n",
       "    </tr>\n",
       "  </thead>\n",
       "  <tbody>\n",
       "    <tr>\n",
       "      <th>0</th>\n",
       "      <td>sozcu</td>\n",
       "      <td>İsrail, vatandaşlarına yurt dışı seyahatleri...</td>\n",
       "    </tr>\n",
       "    <tr>\n",
       "      <th>1</th>\n",
       "      <td>euronews</td>\n",
       "      <td>By euronews Yayınlanma Tarihi 03/11/2023 - 18:...</td>\n",
       "    </tr>\n",
       "    <tr>\n",
       "      <th>2</th>\n",
       "      <td>sozcu</td>\n",
       "      <td>Fransa Dışişleri Bakanlığı, İsrail’in düzenled...</td>\n",
       "    </tr>\n",
       "    <tr>\n",
       "      <th>3</th>\n",
       "      <td>gazeteduvar</td>\n",
       "      <td>DUVAR - Türkiye Futbol Federasyonu, Galatasar...</td>\n",
       "    </tr>\n",
       "    <tr>\n",
       "      <th>4</th>\n",
       "      <td>euronews</td>\n",
       "      <td>By euronews Yayınlanma Tarihi 03/11/2023 - 15:...</td>\n",
       "    </tr>\n",
       "  </tbody>\n",
       "</table>\n",
       "</div>"
      ],
      "text/plain": [
       "        source                                            content\n",
       "0        sozcu    İsrail, vatandaşlarına yurt dışı seyahatleri...\n",
       "1     euronews  By euronews Yayınlanma Tarihi 03/11/2023 - 18:...\n",
       "2        sozcu  Fransa Dışişleri Bakanlığı, İsrail’in düzenled...\n",
       "3  gazeteduvar   DUVAR - Türkiye Futbol Federasyonu, Galatasar...\n",
       "4     euronews  By euronews Yayınlanma Tarihi 03/11/2023 - 15:..."
      ]
     },
     "execution_count": 1,
     "metadata": {},
     "output_type": "execute_result"
    }
   ],
   "source": [
    "import pandas as pd\n",
    "data=pd.read_csv('11-3-2023.csv')\n",
    "data.head()"
   ]
  },
  {
   "cell_type": "code",
   "execution_count": 2,
   "id": "1b692dec-adbf-48b6-b15e-120d4e9cb8ee",
   "metadata": {
    "tags": []
   },
   "outputs": [
    {
     "name": "stdout",
     "output_type": "stream",
     "text": [
      "<class 'pandas.core.series.Series'>\n",
      "Int64Index: 483 entries, 0 to 485\n",
      "Series name: content\n",
      "Non-Null Count  Dtype \n",
      "--------------  ----- \n",
      "483 non-null    object\n",
      "dtypes: object(1)\n",
      "memory usage: 7.5+ KB\n"
     ]
    }
   ],
   "source": [
    "data=data.dropna() \n",
    "data['content'].info()"
   ]
  },
  {
   "cell_type": "code",
   "execution_count": 3,
   "id": "d161ea42-5c65-4698-88a7-4eeee95908a5",
   "metadata": {},
   "outputs": [
    {
     "data": {
      "text/plain": [
       "source\n",
       "aa                  5\n",
       "bantmag.com        16\n",
       "bbcturk             9\n",
       "bloomberght        22\n",
       "campaigntr         20\n",
       "capital            29\n",
       "diken              15\n",
       "donanimhaber       22\n",
       "ekonomim.haber    117\n",
       "eksiseyler.com     29\n",
       "euronews           17\n",
       "gazeteduvar        10\n",
       "gazetoksijen       56\n",
       "hurriyet           20\n",
       "indyturk           17\n",
       "mediacat.com        7\n",
       "oggusto            12\n",
       "pazarlamasyon       4\n",
       "sozcu              36\n",
       "uplifers           20\n",
       "dtype: int64"
      ]
     },
     "execution_count": 3,
     "metadata": {},
     "output_type": "execute_result"
    }
   ],
   "source": [
    "sources = data.groupby('source').size()\n",
    "sources"
   ]
  },
  {
   "cell_type": "code",
   "execution_count": 4,
   "id": "154b15ff-fd6b-4671-89be-1b25ba64798b",
   "metadata": {},
   "outputs": [
    {
     "data": {
      "text/html": [
       "<div>\n",
       "<style scoped>\n",
       "    .dataframe tbody tr th:only-of-type {\n",
       "        vertical-align: middle;\n",
       "    }\n",
       "\n",
       "    .dataframe tbody tr th {\n",
       "        vertical-align: top;\n",
       "    }\n",
       "\n",
       "    .dataframe thead th {\n",
       "        text-align: right;\n",
       "    }\n",
       "</style>\n",
       "<table border=\"1\" class=\"dataframe\">\n",
       "  <thead>\n",
       "    <tr style=\"text-align: right;\">\n",
       "      <th></th>\n",
       "      <th>source</th>\n",
       "      <th>content</th>\n",
       "    </tr>\n",
       "  </thead>\n",
       "  <tbody>\n",
       "    <tr>\n",
       "      <th>0</th>\n",
       "      <td>sozcu</td>\n",
       "      <td>i̇srail, vatandaşlarına yurt dışı seyahatler...</td>\n",
       "    </tr>\n",
       "    <tr>\n",
       "      <th>1</th>\n",
       "      <td>euronews</td>\n",
       "      <td>by euronews yayınlanma tarihi 03/11/2023 - 18:...</td>\n",
       "    </tr>\n",
       "    <tr>\n",
       "      <th>2</th>\n",
       "      <td>sozcu</td>\n",
       "      <td>fransa dışişleri bakanlığı, i̇srail’in düzenle...</td>\n",
       "    </tr>\n",
       "    <tr>\n",
       "      <th>3</th>\n",
       "      <td>gazeteduvar</td>\n",
       "      <td>duvar - türkiye futbol federasyonu, galatasar...</td>\n",
       "    </tr>\n",
       "    <tr>\n",
       "      <th>4</th>\n",
       "      <td>euronews</td>\n",
       "      <td>by euronews yayınlanma tarihi 03/11/2023 - 15:...</td>\n",
       "    </tr>\n",
       "    <tr>\n",
       "      <th>...</th>\n",
       "      <td>...</td>\n",
       "      <td>...</td>\n",
       "    </tr>\n",
       "    <tr>\n",
       "      <th>481</th>\n",
       "      <td>bloomberght</td>\n",
       "      <td>abd ticaret bakanlä±ää±, eylã¼l ayä±na iliåk...</td>\n",
       "    </tr>\n",
       "    <tr>\n",
       "      <th>482</th>\n",
       "      <td>bloomberght</td>\n",
       "      <td>fed politika faizini 2. ayda da deäiåtirmeye...</td>\n",
       "    </tr>\n",
       "    <tr>\n",
       "      <th>483</th>\n",
       "      <td>bloomberght</td>\n",
       "      <td>alman haber ajansä± dpaânä±n haberine gã¶re,...</td>\n",
       "    </tr>\n",
       "    <tr>\n",
       "      <th>484</th>\n",
       "      <td>bloomberght</td>\n",
       "      <td>sonucyok</td>\n",
       "    </tr>\n",
       "    <tr>\n",
       "      <th>485</th>\n",
       "      <td>bloomberght</td>\n",
       "      <td>sonucyok</td>\n",
       "    </tr>\n",
       "  </tbody>\n",
       "</table>\n",
       "<p>483 rows × 2 columns</p>\n",
       "</div>"
      ],
      "text/plain": [
       "          source                                            content\n",
       "0          sozcu    i̇srail, vatandaşlarına yurt dışı seyahatler...\n",
       "1       euronews  by euronews yayınlanma tarihi 03/11/2023 - 18:...\n",
       "2          sozcu  fransa dışişleri bakanlığı, i̇srail’in düzenle...\n",
       "3    gazeteduvar   duvar - türkiye futbol federasyonu, galatasar...\n",
       "4       euronews  by euronews yayınlanma tarihi 03/11/2023 - 15:...\n",
       "..           ...                                                ...\n",
       "481  bloomberght  abd ticaret bakanlä±ää±, eylã¼l ayä±na iliåk...\n",
       "482  bloomberght  fed politika faizini 2. ayda da deäiåtirmeye...\n",
       "483  bloomberght  alman haber ajansä± dpaânä±n haberine gã¶re,...\n",
       "484  bloomberght                                           sonucyok\n",
       "485  bloomberght                                           sonucyok\n",
       "\n",
       "[483 rows x 2 columns]"
      ]
     },
     "execution_count": 4,
     "metadata": {},
     "output_type": "execute_result"
    }
   ],
   "source": [
    "data['content'] = data['content'].astype(str).str.lower()\n",
    "data"
   ]
  },
  {
   "cell_type": "code",
   "execution_count": 22,
   "id": "c7efecfb-38a6-4c62-b2e7-50a7e55ae9c4",
   "metadata": {
    "tags": []
   },
   "outputs": [],
   "source": [
    "import re\n",
    "def kesme_isaretlerini_kaldir(metin):\n",
    "    return re.sub(r\"[’']\", \" \", metin)\n",
    "\n",
    "# DataFrame içindeki verilerde işlem yapmak için applymap kullanın\n",
    "data['content'] = data['content'].apply(kesme_isaretlerini_kaldir)"
   ]
  },
  {
   "cell_type": "code",
   "execution_count": 5,
   "id": "573f6070-3fc7-43ea-918b-e7a3408bf3d2",
   "metadata": {
    "tags": []
   },
   "outputs": [],
   "source": [
    "from nltk.tokenize import RegexpTokenizer\n",
    "regexp = RegexpTokenizer('\\w+')\n",
    "data['content-token']=data['content'].apply(regexp.tokenize)"
   ]
  },
  {
   "cell_type": "code",
   "execution_count": 6,
   "id": "b806f0d1-0c12-4c31-9255-efc47a5c1769",
   "metadata": {
    "tags": []
   },
   "outputs": [
    {
     "data": {
      "text/html": [
       "<div>\n",
       "<style scoped>\n",
       "    .dataframe tbody tr th:only-of-type {\n",
       "        vertical-align: middle;\n",
       "    }\n",
       "\n",
       "    .dataframe tbody tr th {\n",
       "        vertical-align: top;\n",
       "    }\n",
       "\n",
       "    .dataframe thead th {\n",
       "        text-align: right;\n",
       "    }\n",
       "</style>\n",
       "<table border=\"1\" class=\"dataframe\">\n",
       "  <thead>\n",
       "    <tr style=\"text-align: right;\">\n",
       "      <th></th>\n",
       "      <th>source</th>\n",
       "      <th>content</th>\n",
       "      <th>content-token</th>\n",
       "    </tr>\n",
       "  </thead>\n",
       "  <tbody>\n",
       "    <tr>\n",
       "      <th>0</th>\n",
       "      <td>sozcu</td>\n",
       "      <td>i̇srail, vatandaşlarına yurt dışı seyahatler...</td>\n",
       "      <td>[i, srail, vatandaşlarına, yurt, dışı, seyahat...</td>\n",
       "    </tr>\n",
       "    <tr>\n",
       "      <th>1</th>\n",
       "      <td>euronews</td>\n",
       "      <td>by euronews yayınlanma tarihi 03/11/2023 - 18:...</td>\n",
       "      <td>[by, euronews, yayınlanma, tarihi, 03, 11, 202...</td>\n",
       "    </tr>\n",
       "    <tr>\n",
       "      <th>2</th>\n",
       "      <td>sozcu</td>\n",
       "      <td>fransa dışişleri bakanlığı, i̇srail’in düzenle...</td>\n",
       "      <td>[fransa, dışişleri, bakanlığı, i, srail, in, d...</td>\n",
       "    </tr>\n",
       "    <tr>\n",
       "      <th>3</th>\n",
       "      <td>gazeteduvar</td>\n",
       "      <td>duvar - türkiye futbol federasyonu, galatasar...</td>\n",
       "      <td>[duvar, türkiye, futbol, federasyonu, galatasa...</td>\n",
       "    </tr>\n",
       "    <tr>\n",
       "      <th>4</th>\n",
       "      <td>euronews</td>\n",
       "      <td>by euronews yayınlanma tarihi 03/11/2023 - 15:...</td>\n",
       "      <td>[by, euronews, yayınlanma, tarihi, 03, 11, 202...</td>\n",
       "    </tr>\n",
       "    <tr>\n",
       "      <th>...</th>\n",
       "      <td>...</td>\n",
       "      <td>...</td>\n",
       "      <td>...</td>\n",
       "    </tr>\n",
       "    <tr>\n",
       "      <th>481</th>\n",
       "      <td>bloomberght</td>\n",
       "      <td>abd ticaret bakanlä±ää±, eylã¼l ayä±na iliåk...</td>\n",
       "      <td>[abd, ticaret, bakanlä, ä, ä, eylã¼l, ayä, na,...</td>\n",
       "    </tr>\n",
       "    <tr>\n",
       "      <th>482</th>\n",
       "      <td>bloomberght</td>\n",
       "      <td>fed politika faizini 2. ayda da deäiåtirmeye...</td>\n",
       "      <td>[fed, politika, faizini, 2, ayda, da, deä, iå,...</td>\n",
       "    </tr>\n",
       "    <tr>\n",
       "      <th>483</th>\n",
       "      <td>bloomberght</td>\n",
       "      <td>alman haber ajansä± dpaânä±n haberine gã¶re,...</td>\n",
       "      <td>[alman, haber, ajansä, dpaâ, nä, n, haberine, ...</td>\n",
       "    </tr>\n",
       "    <tr>\n",
       "      <th>484</th>\n",
       "      <td>bloomberght</td>\n",
       "      <td>sonucyok</td>\n",
       "      <td>[sonucyok]</td>\n",
       "    </tr>\n",
       "    <tr>\n",
       "      <th>485</th>\n",
       "      <td>bloomberght</td>\n",
       "      <td>sonucyok</td>\n",
       "      <td>[sonucyok]</td>\n",
       "    </tr>\n",
       "  </tbody>\n",
       "</table>\n",
       "<p>483 rows × 3 columns</p>\n",
       "</div>"
      ],
      "text/plain": [
       "          source                                            content  \\\n",
       "0          sozcu    i̇srail, vatandaşlarına yurt dışı seyahatler...   \n",
       "1       euronews  by euronews yayınlanma tarihi 03/11/2023 - 18:...   \n",
       "2          sozcu  fransa dışişleri bakanlığı, i̇srail’in düzenle...   \n",
       "3    gazeteduvar   duvar - türkiye futbol federasyonu, galatasar...   \n",
       "4       euronews  by euronews yayınlanma tarihi 03/11/2023 - 15:...   \n",
       "..           ...                                                ...   \n",
       "481  bloomberght  abd ticaret bakanlä±ää±, eylã¼l ayä±na iliåk...   \n",
       "482  bloomberght  fed politika faizini 2. ayda da deäiåtirmeye...   \n",
       "483  bloomberght  alman haber ajansä± dpaânä±n haberine gã¶re,...   \n",
       "484  bloomberght                                           sonucyok   \n",
       "485  bloomberght                                           sonucyok   \n",
       "\n",
       "                                         content-token  \n",
       "0    [i, srail, vatandaşlarına, yurt, dışı, seyahat...  \n",
       "1    [by, euronews, yayınlanma, tarihi, 03, 11, 202...  \n",
       "2    [fransa, dışişleri, bakanlığı, i, srail, in, d...  \n",
       "3    [duvar, türkiye, futbol, federasyonu, galatasa...  \n",
       "4    [by, euronews, yayınlanma, tarihi, 03, 11, 202...  \n",
       "..                                                 ...  \n",
       "481  [abd, ticaret, bakanlä, ä, ä, eylã¼l, ayä, na,...  \n",
       "482  [fed, politika, faizini, 2, ayda, da, deä, iå,...  \n",
       "483  [alman, haber, ajansä, dpaâ, nä, n, haberine, ...  \n",
       "484                                         [sonucyok]  \n",
       "485                                         [sonucyok]  \n",
       "\n",
       "[483 rows x 3 columns]"
      ]
     },
     "execution_count": 6,
     "metadata": {},
     "output_type": "execute_result"
    }
   ],
   "source": [
    "data"
   ]
  },
  {
   "cell_type": "code",
   "execution_count": 7,
   "id": "58a9b05d-1e55-4225-9eb0-4a243234efbd",
   "metadata": {
    "tags": []
   },
   "outputs": [],
   "source": [
    "import nltk\n",
    "from nltk.corpus import stopwords\n",
    "stopwords = nltk.corpus.stopwords.words(\"turkish\")\n",
    "data['content-token'] = data['content-token'].apply(lambda x: [item for item in x if item not in stopwords])"
   ]
  }
 ],
 "metadata": {
  "kernelspec": {
   "display_name": "Python 3 (ipykernel)",
   "language": "python",
   "name": "python3"
  },
  "language_info": {
   "codemirror_mode": {
    "name": "ipython",
    "version": 3
   },
   "file_extension": ".py",
   "mimetype": "text/x-python",
   "name": "python",
   "nbconvert_exporter": "python",
   "pygments_lexer": "ipython3",
   "version": "3.11.1"
  }
 },
 "nbformat": 4,
 "nbformat_minor": 5
}
